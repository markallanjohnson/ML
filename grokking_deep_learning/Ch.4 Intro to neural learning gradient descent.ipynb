{
 "cells": [
  {
   "cell_type": "code",
   "execution_count": 6,
   "id": "6721306b",
   "metadata": {},
   "outputs": [
    {
     "name": "stdout",
     "output_type": "stream",
     "text": [
      "Error:0.30250000000000005 Prediction:0.25\n",
      "Error:0.17015625000000004 Prediction:0.3875\n",
      "Error:0.095712890625 Prediction:0.49062500000000003\n",
      "Error:0.05383850097656251 Prediction:0.56796875\n",
      "Error:0.03028415679931642 Prediction:0.6259765625\n",
      "Error:0.0170348381996155 Prediction:0.669482421875\n",
      "Error:0.00958209648728372 Prediction:0.70211181640625\n",
      "Error:0.005389929274097089 Prediction:0.7265838623046875\n",
      "Error:0.0030318352166796153 Prediction:0.7449378967285156\n",
      "Error:0.0017054073093822882 Prediction:0.7587034225463867\n",
      "Error:0.0009592916115275371 Prediction:0.76902756690979\n",
      "Error:0.0005396015314842384 Prediction:0.7767706751823426\n",
      "Error:0.000303525861459885 Prediction:0.7825780063867569\n",
      "Error:0.00017073329707118678 Prediction:0.7869335047900676\n",
      "Error:9.603747960254256e-05 Prediction:0.7902001285925507\n",
      "Error:5.402108227642978e-05 Prediction:0.7926500964444131\n",
      "Error:3.038685878049206e-05 Prediction:0.7944875723333098\n",
      "Error:1.7092608064027242e-05 Prediction:0.7958656792499823\n",
      "Error:9.614592036015323e-06 Prediction:0.7968992594374867\n",
      "Error:5.408208020258491e-06 Prediction:0.7976744445781151\n"
     ]
    }
   ],
   "source": [
    "# gradient descent (finding error minimums)\n",
    "weight = 0.5\n",
    "goal_pred = 0.8\n",
    "input = 0.5\n",
    "\n",
    "for iteration in range(20):\n",
    "    pred = input * weight\n",
    "    error = (pred - goal_pred) ** 2\n",
    "    delta = pred - goal_pred         \n",
    "    weight_delta = delta * input  # derivative / gradient of error\n",
    "    weight = weight - weight_delta\n",
    "    \n",
    "    print(\"Error:\" + str(error) + \" Prediction:\" + str(pred))"
   ]
  },
  {
   "cell_type": "code",
   "execution_count": 7,
   "id": "95b52cf1",
   "metadata": {},
   "outputs": [
    {
     "name": "stdout",
     "output_type": "stream",
     "text": [
      "Error:0.03999999999999998 Prediction:1.0\n",
      "Error:0.3599999999999998 Prediction:0.20000000000000018\n",
      "Error:3.2399999999999984 Prediction:2.5999999999999996\n",
      "Error:29.159999999999986 Prediction:-4.599999999999999\n",
      "Error:262.4399999999999 Prediction:16.999999999999996\n",
      "Error:2361.959999999998 Prediction:-47.79999999999998\n",
      "Error:21257.639999999978 Prediction:146.59999999999994\n",
      "Error:191318.75999999983 Prediction:-436.5999999999998\n",
      "Error:1721868.839999999 Prediction:1312.9999999999995\n",
      "Error:15496819.559999991 Prediction:-3935.799999999999\n",
      "Error:139471376.03999993 Prediction:11810.599999999997\n",
      "Error:1255242384.3599997 Prediction:-35428.59999999999\n",
      "Error:11297181459.239996 Prediction:106288.99999999999\n",
      "Error:101674633133.15994 Prediction:-318863.79999999993\n",
      "Error:915071698198.4395 Prediction:956594.5999999997\n",
      "Error:8235645283785.954 Prediction:-2869780.599999999\n",
      "Error:74120807554073.56 Prediction:8609344.999999996\n",
      "Error:667087267986662.1 Prediction:-25828031.799999986\n",
      "Error:6003785411879960.0 Prediction:77484098.59999996\n",
      "Error:5.403406870691965e+16 Prediction:-232452292.5999999\n"
     ]
    }
   ],
   "source": [
    "# prediction explodes if using input=2 \"divergence\"\n",
    "\n",
    "# large weight updates a small error and network overcorrects -> overcorrects -> overcorrects -> ... -> = divergence\n",
    "\n",
    "weight = 0.5\n",
    "goal_pred = 0.8\n",
    "input = 2\n",
    "\n",
    "for iteration in range(20):\n",
    "    pred = input * weight\n",
    "    error = (pred - goal_pred) ** 2\n",
    "    derivative = input * (pred - goal_pred)         \n",
    "    weight = weight - derivative\n",
    "    \n",
    "    print(\"Error:\" + str(error) + \" Prediction:\" + str(pred))"
   ]
  },
  {
   "cell_type": "code",
   "execution_count": 9,
   "id": "79168335",
   "metadata": {},
   "outputs": [
    {
     "name": "stdout",
     "output_type": "stream",
     "text": [
      "Error:0.03999999999999998 Prediction:1.0\n",
      "Error:0.0144 Prediction:0.92\n",
      "Error:0.005183999999999993 Prediction:0.872\n",
      "Error:0.0018662400000000014 Prediction:0.8432000000000001\n",
      "Error:0.0006718464000000028 Prediction:0.8259200000000001\n",
      "Error:0.00024186470400000033 Prediction:0.815552\n",
      "Error:8.70712934399997e-05 Prediction:0.8093312\n",
      "Error:3.134566563839939e-05 Prediction:0.80559872\n",
      "Error:1.1284439629823931e-05 Prediction:0.803359232\n",
      "Error:4.062398266736526e-06 Prediction:0.8020155392\n",
      "Error:1.4624633760252567e-06 Prediction:0.8012093235200001\n",
      "Error:5.264868153690924e-07 Prediction:0.8007255941120001\n",
      "Error:1.8953525353291194e-07 Prediction:0.8004353564672001\n",
      "Error:6.82326912718715e-08 Prediction:0.8002612138803201\n",
      "Error:2.456376885786678e-08 Prediction:0.8001567283281921\n",
      "Error:8.842956788836216e-09 Prediction:0.8000940369969153\n",
      "Error:3.1834644439835434e-09 Prediction:0.8000564221981492\n",
      "Error:1.1460471998340758e-09 Prediction:0.8000338533188895\n",
      "Error:4.125769919393652e-10 Prediction:0.8000203119913337\n",
      "Error:1.485277170987127e-10 Prediction:0.8000121871948003\n"
     ]
    }
   ],
   "source": [
    "# use alpha as scaler. alpha is arbitrarily set until a good value is found (10, 1, 0.1, 0.001, 0.0001, ...)\n",
    "# learning too slow means alpha too low\n",
    "\n",
    "weight = 0.5\n",
    "goal_pred = 0.8\n",
    "input = 2\n",
    "alpha = 0.1 # arbitrary but let's try it\n",
    "\n",
    "for iteration in range(20):\n",
    "    pred = input * weight\n",
    "    error = (pred - goal_pred) ** 2\n",
    "    derivative = input * (pred - goal_pred)         \n",
    "    weight = weight - (alpha * derivative)  # alpha scaler\n",
    "    \n",
    "    print(\"Error:\" + str(error) + \" Prediction:\" + str(pred))"
   ]
  },
  {
   "cell_type": "code",
   "execution_count": 10,
   "id": "1e951ebd",
   "metadata": {},
   "outputs": [],
   "source": [
    "# no longer divergent"
   ]
  },
  {
   "cell_type": "code",
   "execution_count": 17,
   "id": "560fb190",
   "metadata": {},
   "outputs": [
    {
     "name": "stdout",
     "output_type": "stream",
     "text": [
      "Error:0.03999999999999998 Prediction:1.0\n",
      "Error:0.001600000000000003 Prediction:0.8400000000000001\n",
      "Error:6.400000000000012e-05 Prediction:0.808\n",
      "Error:2.5600000000001466e-06 Prediction:0.8016000000000001\n",
      "Error:1.0239999999999165e-07 Prediction:0.80032\n",
      "Error:4.095999999993982e-09 Prediction:0.800064\n",
      "Error:1.6384000000089615e-10 Prediction:0.8000128000000001\n",
      "Error:6.553599999922159e-12 Prediction:0.80000256\n",
      "Error:2.6214399995141164e-13 Prediction:0.800000512\n",
      "Error:1.0485760007151412e-14 Prediction:0.8000001024000001\n",
      "Error:4.1943040119555116e-16 Prediction:0.8000000204800001\n",
      "Error:1.6777215865923107e-17 Prediction:0.800000004096\n",
      "Error:6.710887073965021e-19 Prediction:0.8000000008192001\n",
      "Error:2.6843562847778015e-20 Prediction:0.8000000001638401\n",
      "Error:1.0737425139111206e-21 Prediction:0.800000000032768\n",
      "Error:4.295028263521311e-23 Prediction:0.8000000000065537\n",
      "Error:1.7180113054085245e-24 Prediction:0.8000000000013108\n",
      "Error:6.870881109457025e-26 Prediction:0.8000000000002622\n",
      "Error:2.746024811074342e-27 Prediction:0.8000000000000524\n",
      "Error:1.0891210872707594e-28 Prediction:0.8000000000000105\n"
     ]
    }
   ],
   "source": [
    "# in other woids\n",
    "\n",
    "weight = 0.5\n",
    "goal_pred = 0.8\n",
    "input = 2\n",
    "alpha = 0.1\n",
    "\n",
    "for iteration in range(20):\n",
    "    # find de_dw \n",
    "    pred = input * weight\n",
    "    dp_dw = input\n",
    "    error = (pred - goal_pred)**2\n",
    "    # delta = pred - goal_pred\n",
    "    de_dp = 2 * (pred - goal_pred)\n",
    "    de_dw = de_dp * dp_dw # 2 * delta * input \n",
    "    \n",
    "    with_scaler = de_dw * input\n",
    "    weight = weight - (alpha * with_scaler * 1/2)\n",
    "    \n",
    "    print(\"Error:\" + str(error) + \" Prediction:\" + str(pred))\n",
    "    "
   ]
  },
  {
   "cell_type": "code",
   "execution_count": 20,
   "id": "b2778114",
   "metadata": {},
   "outputs": [
    {
     "name": "stdout",
     "output_type": "stream",
     "text": [
      "Error:0.03999999999999998 Prediction:1.0\n",
      "Error:0.001600000000000003 Prediction:0.8400000000000001\n",
      "Error:6.400000000000012e-05 Prediction:0.808\n",
      "Error:2.5600000000001466e-06 Prediction:0.8016000000000001\n",
      "Error:1.0239999999999165e-07 Prediction:0.80032\n",
      "Error:4.095999999993982e-09 Prediction:0.800064\n",
      "Error:1.6384000000089615e-10 Prediction:0.8000128000000001\n",
      "Error:6.553599999922159e-12 Prediction:0.80000256\n",
      "Error:2.6214399995141164e-13 Prediction:0.800000512\n",
      "Error:1.0485760007151412e-14 Prediction:0.8000001024000001\n",
      "Error:4.1943040119555116e-16 Prediction:0.8000000204800001\n",
      "Error:1.6777215865923107e-17 Prediction:0.800000004096\n",
      "Error:6.710887073965021e-19 Prediction:0.8000000008192001\n",
      "Error:2.6843562847778015e-20 Prediction:0.8000000001638401\n",
      "Error:1.0737425139111206e-21 Prediction:0.800000000032768\n",
      "Error:4.295028263521311e-23 Prediction:0.8000000000065537\n",
      "Error:1.7180113054085245e-24 Prediction:0.8000000000013108\n",
      "Error:6.870881109457025e-26 Prediction:0.8000000000002622\n",
      "Error:2.746024811074342e-27 Prediction:0.8000000000000524\n",
      "Error:1.0891210872707594e-28 Prediction:0.8000000000000105\n"
     ]
    }
   ],
   "source": [
    "# running with actual de_dw (WITH THE 2 BABY) instead for fun\n",
    "weight = 0.5\n",
    "goal_pred = 0.8\n",
    "input = 2\n",
    "alpha = 0.1\n",
    "\n",
    "for iteration in range(20):\n",
    "    # find de_dw \n",
    "    pred = input * weight\n",
    "    dp_dw = input\n",
    "    error = (pred - goal_pred)**2\n",
    "    # delta = pred - goal_pred\n",
    "    de_dp = 2 * (pred - goal_pred)\n",
    "    de_dw = de_dp * dp_dw # 2 * delta * input \n",
    "\n",
    "    weight = weight - (alpha * de_dw) # let's goooo\n",
    "    \n",
    "    print(\"Error:\" + str(error) + \" Prediction:\" + str(pred))"
   ]
  },
  {
   "cell_type": "code",
   "execution_count": 22,
   "id": "97ab0359",
   "metadata": {},
   "outputs": [],
   "source": [
    "# again"
   ]
  },
  {
   "cell_type": "code",
   "execution_count": 31,
   "id": "4c02d28e",
   "metadata": {
    "scrolled": true
   },
   "outputs": [
    {
     "name": "stdout",
     "output_type": "stream",
     "text": [
      "error:17.64 prediction: 5.0\n",
      "error:1.232595164407831e-32 prediction: 0.8000000000000002\n",
      "error:0.0 prediction: 0.8\n",
      "error:0.0 prediction: 0.8\n",
      "error:0.0 prediction: 0.8\n",
      "error:0.0 prediction: 0.8\n",
      "error:0.0 prediction: 0.8\n",
      "error:0.0 prediction: 0.8\n",
      "error:0.0 prediction: 0.8\n",
      "error:0.0 prediction: 0.8\n",
      "error:0.0 prediction: 0.8\n",
      "error:0.0 prediction: 0.8\n",
      "error:0.0 prediction: 0.8\n",
      "error:0.0 prediction: 0.8\n",
      "error:0.0 prediction: 0.8\n",
      "error:0.0 prediction: 0.8\n",
      "error:0.0 prediction: 0.8\n",
      "error:0.0 prediction: 0.8\n",
      "error:0.0 prediction: 0.8\n",
      "error:0.0 prediction: 0.8\n"
     ]
    }
   ],
   "source": [
    "weight = 0.5 # arbitrary\n",
    "goal_pred = 0.8\n",
    "alpha = 0.01 # loose wid it scaler\n",
    "input = 10 # :smiling devil face:\n",
    "\n",
    "for iteration in range(20):\n",
    "    pred = input * weight\n",
    "    error = (pred - goal_pred)**2\n",
    "    delta = pred - goal_pred # de_dp / 2 cause 2 doesn't mah\n",
    "    weight_delta = delta * input # delta * dp_dw\n",
    "    weight = weight - (alpha * weight_delta)\n",
    "    \n",
    "    print(\"error:\" + str(error) + \" prediction: \" + str(pred))\n",
    "    "
   ]
  },
  {
   "cell_type": "code",
   "execution_count": 33,
   "id": "16522756",
   "metadata": {},
   "outputs": [],
   "source": [
    "# so if we have a large error (i.e steep sloped), and a large input, weight_delta will be large and we take a big step\n",
    "# if our step is too large, the next delta will be larger, resulting in an even larger weight_delta and a larger step\n",
    "# we want next step to be smaller... obvi i guess\n",
    "\n",
    "# de_dw = slope\n",
    "# de_dw tells us direction to adjust w and the affect of weight on error. big value means e very sensitive to w, so we will\n",
    "# update w to a \n",
    "\n",
    "# alpha can be viewed as an offset to input and error. if input and error large have to go slow b/c chance of taking a too \n",
    "# large step is higher"
   ]
  },
  {
   "cell_type": "code",
   "execution_count": 37,
   "id": "4d3fc149",
   "metadata": {},
   "outputs": [
    {
     "name": "stdout",
     "output_type": "stream",
     "text": [
      "error:0.48999999999999994 prediction: 1.5\n",
      "error:0.0049000000000000085 prediction: 0.8700000000000001\n",
      "error:4.9000000000000087e-05 prediction: 0.807\n",
      "error:4.900000000000475e-07 prediction: 0.8007000000000001\n",
      "error:4.900000000002029e-09 prediction: 0.8000700000000001\n",
      "error:4.9000000001263743e-11 prediction: 0.8000070000000001\n",
      "error:4.900000001058961e-13 prediction: 0.8000007000000001\n",
      "error:4.900000002613274e-15 prediction: 0.8000000700000001\n",
      "error:4.9000000336995186e-17 prediction: 0.8000000070000001\n",
      "error:4.900000810855669e-19 prediction: 0.8000000007000001\n",
      "error:4.900000810855669e-21 prediction: 0.80000000007\n",
      "error:4.8999386385583614e-23 prediction: 0.800000000007\n",
      "error:4.901493064320196e-25 prediction: 0.8000000000007002\n",
      "error:4.892170207534681e-27 prediction: 0.80000000000007\n",
      "error:4.738095811983702e-29 prediction: 0.8000000000000069\n",
      "error:6.039716305598372e-31 prediction: 0.8000000000000008\n",
      "error:1.232595164407831e-32 prediction: 0.8000000000000002\n",
      "error:0.0 prediction: 0.8\n",
      "error:0.0 prediction: 0.8\n",
      "error:0.0 prediction: 0.8\n"
     ]
    }
   ],
   "source": [
    "weight = 0.5 \n",
    "goal_pred = 0.8\n",
    "alpha = 0.1 \n",
    "input = 3 \n",
    "\n",
    "for iteration in range(20):\n",
    "    pred = input * weight\n",
    "    error = (pred - goal_pred)**2\n",
    "    delta = pred - goal_pred #de_dp\n",
    "    weight_delta = delta * input # de_dw = de_dp * dp_dw\n",
    "    weight = weight - (alpha * weight_delta)\n",
    "    print(\"error:\" + str(error) + \" prediction: \" + str(pred))\n",
    "    "
   ]
  }
 ],
 "metadata": {
  "kernelspec": {
   "display_name": "Python 3 (ipykernel)",
   "language": "python",
   "name": "python3"
  },
  "language_info": {
   "codemirror_mode": {
    "name": "ipython",
    "version": 3
   },
   "file_extension": ".py",
   "mimetype": "text/x-python",
   "name": "python",
   "nbconvert_exporter": "python",
   "pygments_lexer": "ipython3",
   "version": "3.11.5"
  }
 },
 "nbformat": 4,
 "nbformat_minor": 5
}
