{
 "cells": [
  {
   "cell_type": "code",
   "execution_count": 1,
   "id": "0b5107cc",
   "metadata": {},
   "outputs": [],
   "source": [
    "# challenge of arbitrary length\n",
    "\n",
    "# if we want to create a vector that held an entire sequence of symbols within its contents in the same way a word\n",
    "# embedding stores info about a word, how should we do this?\n",
    "\n",
    "# simple way is to concatenate or stack the word embeddings but b/c diff sentences will have diff-length vectors.\n",
    "\n",
    "# \"the cat sat\" vs \"the cat sat still\"\n",
    "\n",
    "# comparing these vectors should indicate a high degree of similarity but b/c \"the cat sat\" is shorter, we have to\n",
    "# choose which part of \"the cat sat still\" vector to compare to.\n",
    "\n",
    "# left to right will appear to be identical, but right to left the vectors will appear much different despite 3/4ths\n",
    "# of the sentence being the same (same words same order)\n",
    "\n",
    "\n",
    "# why does it matter if we can compare 2 sentence vectors? \n",
    "# b/c it gives an approx of what the NN sees. if the method for generating sentence vectors doesn't reflect the similarity\n",
    "# we observe between sentences then the network will also have a hard time recognizing when two sentences are similar.\n",
    "\n",
    "# we want to take the perspect of a NN - will the corr summarization find corr between sentence vectors similar to this one\n",
    "# and the desired label - or will we get wildly diff vectors from 2 nearly identical sentences (little corr between them and\n",
    "# corresponding labels). we want to create sentence vectors that are useful for predicting things about the sentence.\n",
    "# at a minimum this means similar sentences need to create similar vectors.\n",
    "\n",
    "# concatenation has issues b/c of the rather arbitrary "
   ]
  }
 ],
 "metadata": {
  "kernelspec": {
   "display_name": "grokking",
   "language": "python",
   "name": "grokking"
  },
  "language_info": {
   "codemirror_mode": {
    "name": "ipython",
    "version": 3
   },
   "file_extension": ".py",
   "mimetype": "text/x-python",
   "name": "python",
   "nbconvert_exporter": "python",
   "pygments_lexer": "ipython3",
   "version": "3.10.13"
  }
 },
 "nbformat": 4,
 "nbformat_minor": 5
}
