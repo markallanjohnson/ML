{
 "cells": [
  {
   "cell_type": "code",
   "execution_count": null,
   "id": "95071065",
   "metadata": {},
   "outputs": [],
   "source": [
    "# correlation summarization\n",
    "\n",
    "# nns seek to find direct and indirect corr between an input and output layer\n",
    "\n",
    "# what an earlier layer says it should be can be determined by taking what\n",
    "# a later layer says it should be and multiplying it by the weights in \n",
    "# between them. this way, later layers can tell earlier layers what kind\n",
    "# of signal they need. this cross-comm is called \"backpropagation\"\n",
    "\n",
    "# when global corr teaches each layer what it should be, local corr can \n",
    "# optimize weights locally."
   ]
  }
 ],
 "metadata": {
  "kernelspec": {
   "display_name": "Python 3 (ipykernel)",
   "language": "python",
   "name": "python3"
  },
  "language_info": {
   "codemirror_mode": {
    "name": "ipython",
    "version": 3
   },
   "file_extension": ".py",
   "mimetype": "text/x-python",
   "name": "python",
   "nbconvert_exporter": "python",
   "pygments_lexer": "ipython3",
   "version": "3.11.5"
  }
 },
 "nbformat": 4,
 "nbformat_minor": 5
}
