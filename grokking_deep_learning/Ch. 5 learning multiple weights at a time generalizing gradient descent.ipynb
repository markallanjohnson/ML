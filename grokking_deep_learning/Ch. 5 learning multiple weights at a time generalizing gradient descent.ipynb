{
 "cells": [
  {
   "cell_type": "code",
   "execution_count": 1,
   "id": "2d812bd3",
   "metadata": {},
   "outputs": [],
   "source": [
    "def neural_network(input, weights):\n",
    "    out = 0\n",
    "    for i in range(len(input)):\n",
    "        out += (input[i] * weights[i])\n",
    "    return out"
   ]
  },
  {
   "cell_type": "code",
   "execution_count": 2,
   "id": "746c23be",
   "metadata": {},
   "outputs": [],
   "source": [
    "def ele_mul(scalar, vector):\n",
    "    out = [0, 0, 0]\n",
    "    for i in range(len(out)):\n",
    "        out[i] = vector[i] * scalar\n",
    "    return out"
   ]
  },
  {
   "cell_type": "code",
   "execution_count": 3,
   "id": "b93ff63c",
   "metadata": {},
   "outputs": [],
   "source": [
    "toes = [8.5, 9.5, 9.9, 9.0]\n",
    "wlrec = [0.65, 0.8, 0.8, 0.9]\n",
    "nfans = [1.2, 1.3, 0.5, 1.0]"
   ]
  },
  {
   "cell_type": "code",
   "execution_count": 4,
   "id": "1927790d",
   "metadata": {},
   "outputs": [],
   "source": [
    "win_or_lose_binary = [1, 1, 0, 1]\n",
    "true = win_or_lose_binary[0]"
   ]
  },
  {
   "cell_type": "code",
   "execution_count": 12,
   "id": "36f823e6",
   "metadata": {},
   "outputs": [],
   "source": [
    "alpha = 0.01 # divergent at 0.1\n",
    "weights = [0.1, 0.2, -.1]\n",
    "input = [toes[0], wlrec[0], nfans[0]]"
   ]
  },
  {
   "cell_type": "code",
   "execution_count": 13,
   "id": "c5946815",
   "metadata": {},
   "outputs": [
    {
     "name": "stdout",
     "output_type": "stream",
     "text": [
      "iteration:1\n",
      "pred:0.8600000000000001\n",
      "error:0.01959999999999997\n",
      "delta-0.1399999999999999\n",
      "weights:[0.1, 0.2, -0.1]\n",
      "weight_deltas:[-1.189999999999999, -0.09099999999999994, -0.16799999999999987]\n",
      "iteration:2\n",
      "pred:0.9637574999999999\n",
      "error:0.0013135188062500048\n",
      "delta-0.036242500000000066\n",
      "weights:[0.1119, 0.20091, -0.09832]\n",
      "weight_deltas:[-0.30806125000000056, -0.023557625000000044, -0.04349100000000008]\n",
      "iteration:3\n",
      "pred:0.9906177228125002\n",
      "error:8.802712522307997e-05\n",
      "delta-0.009382277187499843\n",
      "weights:[0.11498061250000001, 0.20114557625, -0.09788509000000001]\n",
      "weight_deltas:[-0.07974935609374867, -0.006098480171874899, -0.011258732624999811]\n"
     ]
    }
   ],
   "source": [
    "for iter in range(3):\n",
    "    pred = neural_network(input, weights)\n",
    "    error = (pred - true) ** 2\n",
    "    delta = pred - true\n",
    "    weight_deltas = ele_mul(delta, input)\n",
    "    \n",
    "    print(\"iteration:\" + str(iter+1))\n",
    "    print(\"pred:\" + str(pred))\n",
    "    print(\"error:\" + str(error))\n",
    "    print(\"delta\" + str(delta))\n",
    "    print(\"weights:\" + str(weights))\n",
    "    print(\"weight_deltas:\" +str(weight_deltas))\n",
    "    \n",
    "    for i in range(len(weights)):\n",
    "        weights[i] -= alpha * weight_deltas[i]"
   ]
  },
  {
   "cell_type": "code",
   "execution_count": 16,
   "id": "9805300b",
   "metadata": {},
   "outputs": [
    {
     "name": "stdout",
     "output_type": "stream",
     "text": [
      "iteration:1\n",
      "pred:0.8600000000000001\n",
      "error:0.01959999999999997\n",
      "delta-0.1399999999999999\n",
      "weights:[0.1, 0.2, -0.1]\n",
      "weight_deltas:[0, -0.09099999999999994, -0.16799999999999987]\n",
      "iteration:2\n",
      "pred:0.9382250000000001\n",
      "error:0.003816150624999989\n",
      "delta-0.06177499999999991\n",
      "weights:[0.1, 0.2273, -0.04960000000000005]\n",
      "weight_deltas:[0, -0.040153749999999946, -0.07412999999999989]\n",
      "iteration:3\n",
      "pred:0.97274178125\n",
      "error:0.000743010489422852\n",
      "delta-0.027258218750000007\n",
      "weights:[0.1, 0.239346125, -0.02736100000000008]\n",
      "weight_deltas:[0, -0.017717842187500006, -0.032709862500000006]\n"
     ]
    }
   ],
   "source": [
    "# from comment above we recall an alpha of 0.1 leads to divergence\n",
    "alpha = 0.3\n",
    "weights = [0.1, 0.2, -.1]\n",
    "input = [toes[0], wlrec[0], nfans[0]]\n",
    "for iter in range(3):\n",
    "    pred = neural_network(input, weights)\n",
    "    error = (pred - true) ** 2\n",
    "    delta = pred - true\n",
    "    weight_deltas=ele_mul(delta, input)\n",
    "    weight_deltas[0] = 0 # set previously large value equal to 0...\n",
    "    \n",
    "    print(\"iteration:\" + str(iter+1))\n",
    "    print(\"pred:\" + str(pred))\n",
    "    print(\"error:\" + str(error))\n",
    "    print(\"delta\" + str(delta))\n",
    "    print(\"weights:\" + str(weights))\n",
    "    print(\"weight_deltas:\" +str(weight_deltas))\n",
    "    \n",
    "    for i in range(len(weights)):\n",
    "        weights[i] -= alpha * weight_deltas[i]"
   ]
  },
  {
   "cell_type": "code",
   "execution_count": 19,
   "id": "753b1d28",
   "metadata": {},
   "outputs": [],
   "source": [
    "# still get to low error despite never updating the weight for input[0] (toes). alpha also an order of magnitude higher \n",
    "# because error is shared, when one weight finds the \"bottom of the bowl\" (derivative = 0 so 0 slow), all weights find the\n",
    "# bottom of the bowl. since we converged with b and c weights, even if we tried to train a, a wouldn't move b/c error = 0 \n",
    "# therefore weight_delta = 0 which is already the case."
   ]
  },
  {
   "cell_type": "code",
   "execution_count": null,
   "id": "0ca587d2",
   "metadata": {},
   "outputs": [],
   "source": [
    "# this is potentially damaging. alpha may be a powerful input with predictive power but if the newtork accidentally\n",
    "# figures out how to predict accurately on the training data without it, then it will never learn to incorporate alpha\n",
    "# into its prediction"
   ]
  },
  {
   "cell_type": "code",
   "execution_count": 22,
   "id": "8bfca5ce",
   "metadata": {},
   "outputs": [],
   "source": [
    "# multiple predictions using single input\n",
    "weights = [0.3, 0.2, 0.9]\n",
    "def neural_network(input, weights):\n",
    "    pred = ele_mul(input, weights)\n",
    "    return pred\n",
    "\n",
    "def scalar_ele_mul(number, vector):\n",
    "    output = [0, 0, 0]\n",
    "    assert(len(output)) == (len(vector))\n",
    "    for i in range(len(vector)):\n",
    "        output[i] = number * vector[i]\n",
    "    return output"
   ]
  },
  {
   "cell_type": "code",
   "execution_count": 23,
   "id": "90258a12",
   "metadata": {},
   "outputs": [
    {
     "name": "stdout",
     "output_type": "stream",
     "text": [
      "weights:[0.2415, 0.161, 0.7245]\n",
      "weight deltas:[0.195, 0.13, 0.5850000000000001]\n"
     ]
    }
   ],
   "source": [
    "wlrec = [0.65, 1.0, 1.0, 0.9]\n",
    "\n",
    "hurt = [0.1, 0.0, 0.0, 0.1]\n",
    "win = [1, 1, 0, 1]\n",
    "sad = [0.1, 0.0, 0.1, 0.2]\n",
    "\n",
    "input = wlrec[0]\n",
    "true = [hurt[0], win[0], sad[0]]\n",
    "\n",
    "pred = neural_network(input, weights)\n",
    "\n",
    "error = [0, 0, 0]\n",
    "delta = [0, 0, 0]\n",
    "\n",
    "for i in range(len(true)):\n",
    "    error[i] = (pred[i] - true[i]) ** 2\n",
    "    delta[i] = pred[i] - true[i]\n",
    "    \n",
    "weight_deltas = scalar_ele_mul(input, weights)\n",
    "\n",
    "for i in range(len(weights)):\n",
    "    weights[i] -= (weight_deltas[i] * alpha)\n",
    "    \n",
    "print(\"weights:\" + str(weights))\n",
    "print(\"weight deltas:\" + str(weight_deltas))"
   ]
  }
 ],
 "metadata": {
  "kernelspec": {
   "display_name": "Python 3 (ipykernel)",
   "language": "python",
   "name": "python3"
  },
  "language_info": {
   "codemirror_mode": {
    "name": "ipython",
    "version": 3
   },
   "file_extension": ".py",
   "mimetype": "text/x-python",
   "name": "python",
   "nbconvert_exporter": "python",
   "pygments_lexer": "ipython3",
   "version": "3.11.5"
  }
 },
 "nbformat": 4,
 "nbformat_minor": 5
}
